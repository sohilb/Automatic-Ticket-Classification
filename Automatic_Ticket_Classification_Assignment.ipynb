{
  "cells": [
    {
      "cell_type": "markdown",
      "metadata": {
        "id": "rhR-ZUkwJrFn"
      },
      "source": [
        "## Problem Statement\n",
        "\n",
        "You need to build a model that is able to classify customer complaints based on the products/services. By doing so, you can segregate these tickets into their relevant categories and, therefore, help in the quick resolution of the issue.\n",
        "\n",
        "You will be doing topic modelling on the <b>.json</b> data provided by the company. Since this data is not labelled, you need to apply NMF to analyse patterns and classify tickets into the following five clusters based on their products/services:\n",
        "\n",
        "* Credit card / Prepaid card\n",
        "\n",
        "* Bank account services\n",
        "\n",
        "* Theft/Dispute reporting\n",
        "\n",
        "* Mortgages/loans\n",
        "\n",
        "* Others\n",
        "\n",
        "\n",
        "With the help of topic modelling, you will be able to map each ticket onto its respective department/category. You can then use this data to train any supervised model such as logistic regression, decision tree or random forest. Using this trained model, you can classify any new customer complaint support ticket into its relevant department."
      ]
    },
    {
      "cell_type": "markdown",
      "metadata": {
        "id": "mcgXVNyaLUFS"
      },
      "source": [
        "## Pipelines that needs to be performed:\n",
        "\n",
        "You need to perform the following eight major tasks to complete the assignment:\n",
        "\n",
        "1.  Data loading\n",
        "\n",
        "2. Text preprocessing\n",
        "\n",
        "3. Exploratory data analysis (EDA)\n",
        "\n",
        "4. Feature extraction\n",
        "\n",
        "5. Topic modelling\n",
        "\n",
        "6. Model building using supervised learning\n",
        "\n",
        "7. Model training and evaluation\n",
        "\n",
        "8. Model inference"
      ]
    },
    {
      "cell_type": "markdown",
      "metadata": {
        "id": "JuLFIymAL58u"
      },
      "source": [
        "## Importing the necessary libraries"
      ]
    },
    {
      "cell_type": "code",
      "execution_count": 59,
      "metadata": {
        "id": "O-Q9pqrcJrFr"
      },
      "outputs": [],
      "source": [
        "import json\n",
        "import numpy as np\n",
        "import pandas as pd\n",
        "import re, nltk, spacy, string\n",
        "\n",
        "import en_core_web_sm\n",
        "nlp = en_core_web_sm.load()\n",
        "\n",
        "import seaborn as sns\n",
        "import matplotlib.pyplot as plt\n",
        "%matplotlib inline\n",
        "\n",
        "from plotly.offline import plot\n",
        "import plotly.graph_objects as go\n",
        "import plotly.express as px\n",
        "\n",
        "from wordcloud import WordCloud  # for word cloud visualization\n",
        "\n",
        "# Sklearn feature extraction and other utilities\n",
        "\n",
        "from sklearn.feature_extraction.text import CountVectorizer, TfidfVectorizer, TfidfTransformer\n",
        "from sklearn.model_selection import train_test_split\n",
        "\n",
        "from pprint import pprint"
      ]
    },
    {
      "cell_type": "markdown",
      "metadata": {
        "id": "KtRLCsNVJrFt"
      },
      "source": [
        "## Loading the data\n",
        "\n",
        "The data is in JSON format and we need to convert it to a dataframe."
      ]
    },
    {
      "cell_type": "code",
      "execution_count": 4,
      "metadata": {
        "id": "puVzIf_iJrFt"
      },
      "outputs": [],
      "source": [
        "# Opening JSON file\n",
        "f = open('complaints.json', 'r')# Write the path to your data file and load it\n",
        "\n",
        "# returns JSON object as\n",
        "# a dictionary\n",
        "data = json.load(f)\n",
        "df=pd.json_normalize(data)"
      ]
    },
    {
      "cell_type": "markdown",
      "metadata": {
        "id": "_xYpH-sAJrFu"
      },
      "source": [
        "## Data preparation"
      ]
    },
    {
      "cell_type": "code",
      "execution_count": 8,
      "metadata": {
        "id": "Lf8ufHH5JrFu"
      },
      "outputs": [
        {
          "name": "stdout",
          "output_type": "stream",
          "text": [
            "Number of complaints: 78313\n"
          ]
        },
        {
          "data": {
            "text/html": [
              "<div>\n",
              "<style scoped>\n",
              "    .dataframe tbody tr th:only-of-type {\n",
              "        vertical-align: middle;\n",
              "    }\n",
              "\n",
              "    .dataframe tbody tr th {\n",
              "        vertical-align: top;\n",
              "    }\n",
              "\n",
              "    .dataframe thead th {\n",
              "        text-align: right;\n",
              "    }\n",
              "</style>\n",
              "<table border=\"1\" class=\"dataframe\">\n",
              "  <thead>\n",
              "    <tr style=\"text-align: right;\">\n",
              "      <th></th>\n",
              "      <th>_index</th>\n",
              "      <th>_type</th>\n",
              "      <th>_id</th>\n",
              "      <th>_score</th>\n",
              "      <th>_source.tags</th>\n",
              "      <th>_source.zip_code</th>\n",
              "      <th>_source.complaint_id</th>\n",
              "      <th>_source.issue</th>\n",
              "      <th>_source.date_received</th>\n",
              "      <th>_source.state</th>\n",
              "      <th>...</th>\n",
              "      <th>_source.company_response</th>\n",
              "      <th>_source.company</th>\n",
              "      <th>_source.submitted_via</th>\n",
              "      <th>_source.date_sent_to_company</th>\n",
              "      <th>_source.company_public_response</th>\n",
              "      <th>_source.sub_product</th>\n",
              "      <th>_source.timely</th>\n",
              "      <th>_source.complaint_what_happened</th>\n",
              "      <th>_source.sub_issue</th>\n",
              "      <th>_source.consumer_consent_provided</th>\n",
              "    </tr>\n",
              "  </thead>\n",
              "  <tbody>\n",
              "    <tr>\n",
              "      <th>0</th>\n",
              "      <td>complaint-public-v2</td>\n",
              "      <td>complaint</td>\n",
              "      <td>3211475</td>\n",
              "      <td>0.0</td>\n",
              "      <td>None</td>\n",
              "      <td>90301</td>\n",
              "      <td>3211475</td>\n",
              "      <td>Attempts to collect debt not owed</td>\n",
              "      <td>2019-04-13T12:00:00-05:00</td>\n",
              "      <td>CA</td>\n",
              "      <td>...</td>\n",
              "      <td>Closed with explanation</td>\n",
              "      <td>JPMORGAN CHASE &amp; CO.</td>\n",
              "      <td>Web</td>\n",
              "      <td>2019-04-13T12:00:00-05:00</td>\n",
              "      <td>None</td>\n",
              "      <td>Credit card debt</td>\n",
              "      <td>Yes</td>\n",
              "      <td></td>\n",
              "      <td>Debt is not yours</td>\n",
              "      <td>Consent not provided</td>\n",
              "    </tr>\n",
              "    <tr>\n",
              "      <th>1</th>\n",
              "      <td>complaint-public-v2</td>\n",
              "      <td>complaint</td>\n",
              "      <td>3229299</td>\n",
              "      <td>0.0</td>\n",
              "      <td>Servicemember</td>\n",
              "      <td>319XX</td>\n",
              "      <td>3229299</td>\n",
              "      <td>Written notification about debt</td>\n",
              "      <td>2019-05-01T12:00:00-05:00</td>\n",
              "      <td>GA</td>\n",
              "      <td>...</td>\n",
              "      <td>Closed with explanation</td>\n",
              "      <td>JPMORGAN CHASE &amp; CO.</td>\n",
              "      <td>Web</td>\n",
              "      <td>2019-05-01T12:00:00-05:00</td>\n",
              "      <td>None</td>\n",
              "      <td>Credit card debt</td>\n",
              "      <td>Yes</td>\n",
              "      <td>Good morning my name is XXXX XXXX and I apprec...</td>\n",
              "      <td>Didn't receive enough information to verify debt</td>\n",
              "      <td>Consent provided</td>\n",
              "    </tr>\n",
              "  </tbody>\n",
              "</table>\n",
              "<p>2 rows × 22 columns</p>\n",
              "</div>"
            ],
            "text/plain": [
              "                _index      _type      _id  _score   _source.tags  \\\n",
              "0  complaint-public-v2  complaint  3211475     0.0           None   \n",
              "1  complaint-public-v2  complaint  3229299     0.0  Servicemember   \n",
              "\n",
              "  _source.zip_code _source.complaint_id                      _source.issue  \\\n",
              "0            90301              3211475  Attempts to collect debt not owed   \n",
              "1            319XX              3229299    Written notification about debt   \n",
              "\n",
              "       _source.date_received _source.state  ... _source.company_response  \\\n",
              "0  2019-04-13T12:00:00-05:00            CA  ...  Closed with explanation   \n",
              "1  2019-05-01T12:00:00-05:00            GA  ...  Closed with explanation   \n",
              "\n",
              "        _source.company _source.submitted_via _source.date_sent_to_company  \\\n",
              "0  JPMORGAN CHASE & CO.                   Web    2019-04-13T12:00:00-05:00   \n",
              "1  JPMORGAN CHASE & CO.                   Web    2019-05-01T12:00:00-05:00   \n",
              "\n",
              "  _source.company_public_response _source.sub_product _source.timely  \\\n",
              "0                            None    Credit card debt            Yes   \n",
              "1                            None    Credit card debt            Yes   \n",
              "\n",
              "                     _source.complaint_what_happened  \\\n",
              "0                                                      \n",
              "1  Good morning my name is XXXX XXXX and I apprec...   \n",
              "\n",
              "                                  _source.sub_issue  \\\n",
              "0                                 Debt is not yours   \n",
              "1  Didn't receive enough information to verify debt   \n",
              "\n",
              "  _source.consumer_consent_provided  \n",
              "0              Consent not provided  \n",
              "1                  Consent provided  \n",
              "\n",
              "[2 rows x 22 columns]"
            ]
          },
          "execution_count": 8,
          "metadata": {},
          "output_type": "execute_result"
        }
      ],
      "source": [
        "# Inspect the dataframe to understand the given data.\n",
        "print(\"Number of complaints:\", df.shape[0])\n",
        "df.head(2)\n"
      ]
    },
    {
      "cell_type": "code",
      "execution_count": 9,
      "metadata": {
        "id": "Dwcty-wmJrFw"
      },
      "outputs": [
        {
          "data": {
            "text/plain": [
              "Index(['_index', '_type', '_id', '_score', '_source.tags', '_source.zip_code',\n",
              "       '_source.complaint_id', '_source.issue', '_source.date_received',\n",
              "       '_source.state', '_source.consumer_disputed', '_source.product',\n",
              "       '_source.company_response', '_source.company', '_source.submitted_via',\n",
              "       '_source.date_sent_to_company', '_source.company_public_response',\n",
              "       '_source.sub_product', '_source.timely',\n",
              "       '_source.complaint_what_happened', '_source.sub_issue',\n",
              "       '_source.consumer_consent_provided'],\n",
              "      dtype='object')"
            ]
          },
          "execution_count": 9,
          "metadata": {},
          "output_type": "execute_result"
        }
      ],
      "source": [
        "#print the column names\n",
        "df.columns"
      ]
    },
    {
      "cell_type": "code",
      "execution_count": 11,
      "metadata": {
        "id": "FYCtKXD1JrFw"
      },
      "outputs": [
        {
          "name": "stdout",
          "output_type": "stream",
          "text": [
            "Index(['Index', 'Type', 'ID', 'Score', 'Tags', 'ZipCode', 'ComplaintID',\n",
            "       'Issue', 'Date Received', 'State', 'ConsumerDisputed', 'Product',\n",
            "       'CompanyResponse', 'Company', 'SubmittedVia', 'DateSentToCompany',\n",
            "       'CompanyPublicResponse', 'SubProduct', 'Timely',\n",
            "       'ComplaintWhatHappened', 'SubIssue', 'ConsumerConsentProvided'],\n",
            "      dtype='object')\n"
          ]
        }
      ],
      "source": [
        "#Assign new column names\n",
        "df.columns = ['Index', 'Type', 'ID', 'Score', 'Tags', 'ZipCode', 'ComplaintID', 'Issue', 'Date Received', 'State', 'ConsumerDisputed', 'Product', 'CompanyResponse', 'Company', 'SubmittedVia', 'DateSentToCompany', 'CompanyPublicResponse', 'SubProduct', 'Timely', 'ComplaintWhatHappened', 'SubIssue', 'ConsumerConsentProvided']\n",
        "print(df.columns)"
      ]
    },
    {
      "cell_type": "code",
      "execution_count": 13,
      "metadata": {
        "id": "grQUPFL5JrFx"
      },
      "outputs": [
        {
          "name": "stderr",
          "output_type": "stream",
          "text": [
            "/var/folders/9_/bvsds9vn02l2p8ds9_pgkyqr0000gq/T/ipykernel_13242/136124524.py:2: FutureWarning:\n",
            "\n",
            "A value is trying to be set on a copy of a DataFrame or Series through chained assignment using an inplace method.\n",
            "The behavior will change in pandas 3.0. This inplace method will never work because the intermediate object on which we are setting values always behaves as a copy.\n",
            "\n",
            "For example, when doing 'df[col].method(value, inplace=True)', try using 'df.method({col: value}, inplace=True)' or df[col] = df[col].method(value) instead, to perform the operation inplace on the original object.\n",
            "\n",
            "\n",
            "\n"
          ]
        }
      ],
      "source": [
        "df['ComplaintWhatHappened'] = df['ComplaintWhatHappened'].str.strip()  # remove leading/trailing whitespace\n",
        "df['ComplaintWhatHappened'].replace('', np.nan, inplace=True)"
      ]
    },
    {
      "cell_type": "code",
      "execution_count": 14,
      "metadata": {
        "id": "Jfxd8VSmJrFy"
      },
      "outputs": [],
      "source": [
        "#Remove all rows where complaints column is nan\n",
        "df.dropna(subset=['ComplaintWhatHappened'], inplace=True)"
      ]
    },
    {
      "cell_type": "markdown",
      "metadata": {
        "id": "L944HZpsJrFy"
      },
      "source": [
        "## Prepare the text for topic modeling\n",
        "\n",
        "Once you have removed all the blank complaints, you need to:\n",
        "\n",
        "* Make the text lowercase\n",
        "* Remove text in square brackets\n",
        "* Remove punctuation\n",
        "* Remove words containing numbers\n",
        "\n",
        "\n",
        "Once you have done these cleaning operations you need to perform the following:\n",
        "* Lemmatize the texts\n",
        "* Extract the POS tags of the lemmatized text and remove all the words which have tags other than NN[tag == \"NN\"].\n"
      ]
    },
    {
      "cell_type": "code",
      "execution_count": 15,
      "metadata": {
        "id": "qm7SjjSkJrFz"
      },
      "outputs": [],
      "source": [
        "# Write your function here to clean the text and remove all the unnecessary elements.\n",
        "def clean_text(text):\n",
        "    \"\"\"Convert text to lowercase, remove text in square brackets, punctuation, and words containing numbers.\"\"\"\n",
        "    text = text.lower()\n",
        "    text = re.sub(r'\\[.*?\\]', '', text)  # remove content in square brackets\n",
        "    text = re.sub(f\"[{re.escape(string.punctuation)}]\", \" \", text)  # remove punctuation\n",
        "    text = re.sub(r'\\w*\\d\\w*', '', text)  # remove words containing numbers\n",
        "    text = re.sub(r'\\s+', ' ', text).strip()  # remove extra whitespace\n",
        "    return text"
      ]
    },
    {
      "cell_type": "code",
      "execution_count": 16,
      "metadata": {
        "id": "zgOu8t8HJrFz"
      },
      "outputs": [],
      "source": [
        "#Write your function to Lemmatize the texts\n",
        "def lemmatize_text(text):\n",
        "    \"\"\"Lemmatize the input text using spaCy.\"\"\"\n",
        "    doc = nlp(text)\n",
        "    lemmas = [token.lemma_ for token in doc]\n",
        "    return ' '.join(lemmas)"
      ]
    },
    {
      "cell_type": "code",
      "execution_count": 17,
      "metadata": {
        "id": "uXnN7aa_JrF0"
      },
      "outputs": [],
      "source": [
        "#Create a dataframe('df_clean') that will have only the complaints and the lemmatized complaints\n",
        "df['cleaned_complaint'] = df['ComplaintWhatHappened'].apply(clean_text)\n",
        "df['lemmatized_complaint'] = df['cleaned_complaint'].apply(lemmatize_text)\n",
        "\n",
        "df_clean = pd.DataFrame()\n",
        "df_clean['ComplaintWhatHappened'] = df['ComplaintWhatHappened']   # original raw complaint text\n",
        "df_clean['lemmatized_complaint'] = df['lemmatized_complaint']\n"
      ]
    },
    {
      "cell_type": "code",
      "execution_count": 18,
      "metadata": {
        "id": "nOiDVvEIJrF0"
      },
      "outputs": [
        {
          "data": {
            "text/html": [
              "<div>\n",
              "<style scoped>\n",
              "    .dataframe tbody tr th:only-of-type {\n",
              "        vertical-align: middle;\n",
              "    }\n",
              "\n",
              "    .dataframe tbody tr th {\n",
              "        vertical-align: top;\n",
              "    }\n",
              "\n",
              "    .dataframe thead th {\n",
              "        text-align: right;\n",
              "    }\n",
              "</style>\n",
              "<table border=\"1\" class=\"dataframe\">\n",
              "  <thead>\n",
              "    <tr style=\"text-align: right;\">\n",
              "      <th></th>\n",
              "      <th>ComplaintWhatHappened</th>\n",
              "      <th>lemmatized_complaint</th>\n",
              "    </tr>\n",
              "  </thead>\n",
              "  <tbody>\n",
              "    <tr>\n",
              "      <th>1</th>\n",
              "      <td>Good morning my name is XXXX XXXX and I apprec...</td>\n",
              "      <td>good morning my name be xxxx xxxx and I apprec...</td>\n",
              "    </tr>\n",
              "    <tr>\n",
              "      <th>2</th>\n",
              "      <td>I upgraded my XXXX XXXX card in XX/XX/2018 and...</td>\n",
              "      <td>I upgrade my xxxx xxxx card in xx xx and be te...</td>\n",
              "    </tr>\n",
              "    <tr>\n",
              "      <th>10</th>\n",
              "      <td>Chase Card was reported on XX/XX/2019. However...</td>\n",
              "      <td>chase card be report on xx xx however fraudule...</td>\n",
              "    </tr>\n",
              "    <tr>\n",
              "      <th>11</th>\n",
              "      <td>On XX/XX/2018, while trying to book a XXXX  XX...</td>\n",
              "      <td>on xx xx while try to book a xxxx xxxx ticket ...</td>\n",
              "    </tr>\n",
              "    <tr>\n",
              "      <th>14</th>\n",
              "      <td>my grand son give me check for {$1600.00} i de...</td>\n",
              "      <td>my grand son give I check for I deposit it int...</td>\n",
              "    </tr>\n",
              "    <tr>\n",
              "      <th>...</th>\n",
              "      <td>...</td>\n",
              "      <td>...</td>\n",
              "    </tr>\n",
              "    <tr>\n",
              "      <th>78303</th>\n",
              "      <td>After being a Chase Card customer for well ove...</td>\n",
              "      <td>after be a chase card customer for well over a...</td>\n",
              "    </tr>\n",
              "    <tr>\n",
              "      <th>78309</th>\n",
              "      <td>On Wednesday, XX/XX/XXXX I called Chas, my XXX...</td>\n",
              "      <td>on wednesday xx xx xxxx I call chas my xxxx xx...</td>\n",
              "    </tr>\n",
              "    <tr>\n",
              "      <th>78310</th>\n",
              "      <td>I am not familiar with XXXX pay and did not un...</td>\n",
              "      <td>I be not familiar with xxxx pay and do not und...</td>\n",
              "    </tr>\n",
              "    <tr>\n",
              "      <th>78311</th>\n",
              "      <td>I have had flawless credit for 30 yrs. I've ha...</td>\n",
              "      <td>I have have flawless credit for yrs I ve have ...</td>\n",
              "    </tr>\n",
              "    <tr>\n",
              "      <th>78312</th>\n",
              "      <td>Roughly 10+ years ago I closed out my accounts...</td>\n",
              "      <td>roughly year ago I close out my account with j...</td>\n",
              "    </tr>\n",
              "  </tbody>\n",
              "</table>\n",
              "<p>21072 rows × 2 columns</p>\n",
              "</div>"
            ],
            "text/plain": [
              "                                   ComplaintWhatHappened  \\\n",
              "1      Good morning my name is XXXX XXXX and I apprec...   \n",
              "2      I upgraded my XXXX XXXX card in XX/XX/2018 and...   \n",
              "10     Chase Card was reported on XX/XX/2019. However...   \n",
              "11     On XX/XX/2018, while trying to book a XXXX  XX...   \n",
              "14     my grand son give me check for {$1600.00} i de...   \n",
              "...                                                  ...   \n",
              "78303  After being a Chase Card customer for well ove...   \n",
              "78309  On Wednesday, XX/XX/XXXX I called Chas, my XXX...   \n",
              "78310  I am not familiar with XXXX pay and did not un...   \n",
              "78311  I have had flawless credit for 30 yrs. I've ha...   \n",
              "78312  Roughly 10+ years ago I closed out my accounts...   \n",
              "\n",
              "                                    lemmatized_complaint  \n",
              "1      good morning my name be xxxx xxxx and I apprec...  \n",
              "2      I upgrade my xxxx xxxx card in xx xx and be te...  \n",
              "10     chase card be report on xx xx however fraudule...  \n",
              "11     on xx xx while try to book a xxxx xxxx ticket ...  \n",
              "14     my grand son give I check for I deposit it int...  \n",
              "...                                                  ...  \n",
              "78303  after be a chase card customer for well over a...  \n",
              "78309  on wednesday xx xx xxxx I call chas my xxxx xx...  \n",
              "78310  I be not familiar with xxxx pay and do not und...  \n",
              "78311  I have have flawless credit for yrs I ve have ...  \n",
              "78312  roughly year ago I close out my account with j...  \n",
              "\n",
              "[21072 rows x 2 columns]"
            ]
          },
          "execution_count": 18,
          "metadata": {},
          "output_type": "execute_result"
        }
      ],
      "source": [
        "df_clean"
      ]
    },
    {
      "cell_type": "code",
      "execution_count": 20,
      "metadata": {
        "id": "Kk7fc4DuJrF1"
      },
      "outputs": [
        {
          "data": {
            "text/html": [
              "<div>\n",
              "<style scoped>\n",
              "    .dataframe tbody tr th:only-of-type {\n",
              "        vertical-align: middle;\n",
              "    }\n",
              "\n",
              "    .dataframe tbody tr th {\n",
              "        vertical-align: top;\n",
              "    }\n",
              "\n",
              "    .dataframe thead th {\n",
              "        text-align: right;\n",
              "    }\n",
              "</style>\n",
              "<table border=\"1\" class=\"dataframe\">\n",
              "  <thead>\n",
              "    <tr style=\"text-align: right;\">\n",
              "      <th></th>\n",
              "      <th>ComplaintWhatHappened</th>\n",
              "      <th>lemmatized_complaint</th>\n",
              "      <th>complaint_POS_removed</th>\n",
              "    </tr>\n",
              "  </thead>\n",
              "  <tbody>\n",
              "    <tr>\n",
              "      <th>1</th>\n",
              "      <td>Good morning my name is XXXX XXXX and I apprec...</td>\n",
              "      <td>good morning my name be xxxx xxxx and I apprec...</td>\n",
              "      <td>morning name stop service debt verification st...</td>\n",
              "    </tr>\n",
              "    <tr>\n",
              "      <th>2</th>\n",
              "      <td>I upgraded my XXXX XXXX card in XX/XX/2018 and...</td>\n",
              "      <td>I upgrade my xxxx xxxx card in xx xx and be te...</td>\n",
              "      <td>card agent anniversary date agent information ...</td>\n",
              "    </tr>\n",
              "    <tr>\n",
              "      <th>10</th>\n",
              "      <td>Chase Card was reported on XX/XX/2019. However...</td>\n",
              "      <td>chase card be report on xx xx however fraudule...</td>\n",
              "      <td>chase card report application identity consent...</td>\n",
              "    </tr>\n",
              "    <tr>\n",
              "      <th>11</th>\n",
              "      <td>On XX/XX/2018, while trying to book a XXXX  XX...</td>\n",
              "      <td>on xx xx while try to book a xxxx xxxx ticket ...</td>\n",
              "      <td>ticket offer ticket reward card information of...</td>\n",
              "    </tr>\n",
              "    <tr>\n",
              "      <th>14</th>\n",
              "      <td>my grand son give me check for {$1600.00} i de...</td>\n",
              "      <td>my grand son give I check for I deposit it int...</td>\n",
              "      <td>son chase account fund chase bank account mone...</td>\n",
              "    </tr>\n",
              "  </tbody>\n",
              "</table>\n",
              "</div>"
            ],
            "text/plain": [
              "                                ComplaintWhatHappened  \\\n",
              "1   Good morning my name is XXXX XXXX and I apprec...   \n",
              "2   I upgraded my XXXX XXXX card in XX/XX/2018 and...   \n",
              "10  Chase Card was reported on XX/XX/2019. However...   \n",
              "11  On XX/XX/2018, while trying to book a XXXX  XX...   \n",
              "14  my grand son give me check for {$1600.00} i de...   \n",
              "\n",
              "                                 lemmatized_complaint  \\\n",
              "1   good morning my name be xxxx xxxx and I apprec...   \n",
              "2   I upgrade my xxxx xxxx card in xx xx and be te...   \n",
              "10  chase card be report on xx xx however fraudule...   \n",
              "11  on xx xx while try to book a xxxx xxxx ticket ...   \n",
              "14  my grand son give I check for I deposit it int...   \n",
              "\n",
              "                                complaint_POS_removed  \n",
              "1   morning name stop service debt verification st...  \n",
              "2   card agent anniversary date agent information ...  \n",
              "10  chase card report application identity consent...  \n",
              "11  ticket offer ticket reward card information of...  \n",
              "14  son chase account fund chase bank account mone...  "
            ]
          },
          "execution_count": 20,
          "metadata": {},
          "output_type": "execute_result"
        }
      ],
      "source": [
        "#Write your function to extract the POS tags\n",
        "\n",
        "def pos_tag(text):\n",
        "  \"\"\"Keep only nouns (NN) in the text.\"\"\"\n",
        "  doc = nlp(text)\n",
        "  nouns = [token.lemma_ for token in doc if token.pos_ == 'NOUN']  # using coarse POS tag 'NOUN' for nouns\n",
        "  return ' '.join(nouns)\n",
        "\n",
        "\n",
        "\n",
        "df_clean[\"complaint_POS_removed\"] = df_clean[\"lemmatized_complaint\"].apply(pos_tag) #this column should contain lemmatized text with all the words removed which have tags other than NN[tag == \"NN\"].\n",
        "df_clean.head()\n"
      ]
    },
    {
      "cell_type": "code",
      "execution_count": 21,
      "metadata": {
        "id": "AjxfchvFJrF2"
      },
      "outputs": [
        {
          "data": {
            "text/html": [
              "<div>\n",
              "<style scoped>\n",
              "    .dataframe tbody tr th:only-of-type {\n",
              "        vertical-align: middle;\n",
              "    }\n",
              "\n",
              "    .dataframe tbody tr th {\n",
              "        vertical-align: top;\n",
              "    }\n",
              "\n",
              "    .dataframe thead th {\n",
              "        text-align: right;\n",
              "    }\n",
              "</style>\n",
              "<table border=\"1\" class=\"dataframe\">\n",
              "  <thead>\n",
              "    <tr style=\"text-align: right;\">\n",
              "      <th></th>\n",
              "      <th>ComplaintWhatHappened</th>\n",
              "      <th>lemmatized_complaint</th>\n",
              "      <th>complaint_POS_removed</th>\n",
              "    </tr>\n",
              "  </thead>\n",
              "  <tbody>\n",
              "    <tr>\n",
              "      <th>1</th>\n",
              "      <td>Good morning my name is XXXX XXXX and I apprec...</td>\n",
              "      <td>good morning my name be xxxx xxxx and I apprec...</td>\n",
              "      <td>morning name stop service debt verification st...</td>\n",
              "    </tr>\n",
              "    <tr>\n",
              "      <th>2</th>\n",
              "      <td>I upgraded my XXXX XXXX card in XX/XX/2018 and...</td>\n",
              "      <td>I upgrade my xxxx xxxx card in xx xx and be te...</td>\n",
              "      <td>card agent anniversary date agent information ...</td>\n",
              "    </tr>\n",
              "    <tr>\n",
              "      <th>10</th>\n",
              "      <td>Chase Card was reported on XX/XX/2019. However...</td>\n",
              "      <td>chase card be report on xx xx however fraudule...</td>\n",
              "      <td>chase card report application identity consent...</td>\n",
              "    </tr>\n",
              "    <tr>\n",
              "      <th>11</th>\n",
              "      <td>On XX/XX/2018, while trying to book a XXXX  XX...</td>\n",
              "      <td>on xx xx while try to book a xxxx xxxx ticket ...</td>\n",
              "      <td>ticket offer ticket reward card information of...</td>\n",
              "    </tr>\n",
              "    <tr>\n",
              "      <th>14</th>\n",
              "      <td>my grand son give me check for {$1600.00} i de...</td>\n",
              "      <td>my grand son give I check for I deposit it int...</td>\n",
              "      <td>son chase account fund chase bank account mone...</td>\n",
              "    </tr>\n",
              "    <tr>\n",
              "      <th>...</th>\n",
              "      <td>...</td>\n",
              "      <td>...</td>\n",
              "      <td>...</td>\n",
              "    </tr>\n",
              "    <tr>\n",
              "      <th>78303</th>\n",
              "      <td>After being a Chase Card customer for well ove...</td>\n",
              "      <td>after be a chase card customer for well over a...</td>\n",
              "      <td>chase card customer decade solicitation credit...</td>\n",
              "    </tr>\n",
              "    <tr>\n",
              "      <th>78309</th>\n",
              "      <td>On Wednesday, XX/XX/XXXX I called Chas, my XXX...</td>\n",
              "      <td>on wednesday xx xx xxxx I call chas my xxxx xx...</td>\n",
              "      <td>credit card provider claim purchase protection...</td>\n",
              "    </tr>\n",
              "    <tr>\n",
              "      <th>78310</th>\n",
              "      <td>I am not familiar with XXXX pay and did not un...</td>\n",
              "      <td>I be not familiar with xxxx pay and do not und...</td>\n",
              "      <td>pay risk consumer chase bank app chase year ba...</td>\n",
              "    </tr>\n",
              "    <tr>\n",
              "      <th>78311</th>\n",
              "      <td>I have had flawless credit for 30 yrs. I've ha...</td>\n",
              "      <td>I have have flawless credit for yrs I ve have ...</td>\n",
              "      <td>credit yrs credit card chase freedom problem b...</td>\n",
              "    </tr>\n",
              "    <tr>\n",
              "      <th>78312</th>\n",
              "      <td>Roughly 10+ years ago I closed out my accounts...</td>\n",
              "      <td>roughly year ago I close out my account with j...</td>\n",
              "      <td>year account order line credit account payment...</td>\n",
              "    </tr>\n",
              "  </tbody>\n",
              "</table>\n",
              "<p>21072 rows × 3 columns</p>\n",
              "</div>"
            ],
            "text/plain": [
              "                                   ComplaintWhatHappened  \\\n",
              "1      Good morning my name is XXXX XXXX and I apprec...   \n",
              "2      I upgraded my XXXX XXXX card in XX/XX/2018 and...   \n",
              "10     Chase Card was reported on XX/XX/2019. However...   \n",
              "11     On XX/XX/2018, while trying to book a XXXX  XX...   \n",
              "14     my grand son give me check for {$1600.00} i de...   \n",
              "...                                                  ...   \n",
              "78303  After being a Chase Card customer for well ove...   \n",
              "78309  On Wednesday, XX/XX/XXXX I called Chas, my XXX...   \n",
              "78310  I am not familiar with XXXX pay and did not un...   \n",
              "78311  I have had flawless credit for 30 yrs. I've ha...   \n",
              "78312  Roughly 10+ years ago I closed out my accounts...   \n",
              "\n",
              "                                    lemmatized_complaint  \\\n",
              "1      good morning my name be xxxx xxxx and I apprec...   \n",
              "2      I upgrade my xxxx xxxx card in xx xx and be te...   \n",
              "10     chase card be report on xx xx however fraudule...   \n",
              "11     on xx xx while try to book a xxxx xxxx ticket ...   \n",
              "14     my grand son give I check for I deposit it int...   \n",
              "...                                                  ...   \n",
              "78303  after be a chase card customer for well over a...   \n",
              "78309  on wednesday xx xx xxxx I call chas my xxxx xx...   \n",
              "78310  I be not familiar with xxxx pay and do not und...   \n",
              "78311  I have have flawless credit for yrs I ve have ...   \n",
              "78312  roughly year ago I close out my account with j...   \n",
              "\n",
              "                                   complaint_POS_removed  \n",
              "1      morning name stop service debt verification st...  \n",
              "2      card agent anniversary date agent information ...  \n",
              "10     chase card report application identity consent...  \n",
              "11     ticket offer ticket reward card information of...  \n",
              "14     son chase account fund chase bank account mone...  \n",
              "...                                                  ...  \n",
              "78303  chase card customer decade solicitation credit...  \n",
              "78309  credit card provider claim purchase protection...  \n",
              "78310  pay risk consumer chase bank app chase year ba...  \n",
              "78311  credit yrs credit card chase freedom problem b...  \n",
              "78312  year account order line credit account payment...  \n",
              "\n",
              "[21072 rows x 3 columns]"
            ]
          },
          "execution_count": 21,
          "metadata": {},
          "output_type": "execute_result"
        }
      ],
      "source": [
        "#The clean dataframe should now contain the raw complaint, lemmatized complaint and the complaint after removing POS tags.\n",
        "df_clean"
      ]
    },
    {
      "cell_type": "markdown",
      "metadata": {
        "id": "_7Un1AElJrF2"
      },
      "source": [
        "## Exploratory data analysis to get familiar with the data.\n",
        "\n",
        "Write the code in this task to perform the following:\n",
        "\n",
        "*   Visualise the data according to the 'Complaint' character length\n",
        "*   Using a word cloud find the top 40 words by frequency among all the articles after processing the text\n",
        "*   Find the top unigrams,bigrams and trigrams by frequency among all the complaints after processing the text. ‘\n",
        "\n",
        "\n"
      ]
    },
    {
      "cell_type": "code",
      "execution_count": 24,
      "metadata": {
        "id": "q-zaqJF6JrF2"
      },
      "outputs": [
        {
          "data": {
            "image/png": "[encoded data removed]",
            "text/plain": [
              "<Figure size 800x500 with 1 Axes>"
            ]
          },
          "metadata": {},
          "output_type": "display_data"
        }
      ],
      "source": [
        "# Write your code here to visualise the data according to the 'Complaint' character \n",
        "df_clean['char_length'] = df_clean['ComplaintWhatHappened'].apply(len)\n",
        "\n",
        "plt.figure(figsize=(8,5))\n",
        "sns.histplot(df_clean['char_length'], bins=30, kde=True)\n",
        "plt.title(\"Distribution of Complaint Character Lengths\")\n",
        "plt.xlabel(\"Character count\")\n",
        "plt.ylabel(\"Number of complaints\")\n",
        "plt.show()"
      ]
    },
    {
      "cell_type": "markdown",
      "metadata": {
        "id": "T9jD_6SeJrF3"
      },
      "source": [
        "#### Find the top 40 words by frequency among all the articles after processing the text."
      ]
    },
    {
      "cell_type": "code",
      "execution_count": 28,
      "metadata": {
        "id": "QcfdvtfZJrF3"
      },
      "outputs": [
        {
          "data": {
            "image/png": "[encoded data removed]",
            "text/plain": [
              "<Figure size 1000x600 with 1 Axes>"
            ]
          },
          "metadata": {},
          "output_type": "display_data"
        }
      ],
      "source": [
        "#Using a word cloud find the top 40 words by frequency among all the articles after processing the text\n",
        "all_words = ' '.join(df_clean['complaint_POS_removed'])\n",
        "wordcloud = WordCloud(width=800, height=400, max_words=40, background_color=\"white\").generate(all_words)\n",
        "\n",
        "plt.figure(figsize=(10,6))\n",
        "plt.imshow(wordcloud, interpolation='bilinear')\n",
        "plt.axis('off')\n",
        "plt.title(\"Top 40 words in complaints (after processing)\")\n",
        "plt.show()\n"
      ]
    },
    {
      "cell_type": "code",
      "execution_count": 29,
      "metadata": {
        "id": "OkSmc3UaJrF4"
      },
      "outputs": [],
      "source": [
        "#Removing -PRON- from the text corpus\n",
        "df_clean['Complaint_clean'] = df_clean['complaint_POS_removed'].str.replace('-PRON-', '')"
      ]
    },
    {
      "cell_type": "markdown",
      "metadata": {
        "id": "5DfCSbbmJrF4"
      },
      "source": [
        "#### Find the top unigrams,bigrams and trigrams by frequency among all the complaints after processing the text."
      ]
    },
    {
      "cell_type": "code",
      "execution_count": 30,
      "metadata": {
        "id": "5mbk5DS5JrF4"
      },
      "outputs": [],
      "source": [
        "#Write your code here to find the top 30 unigram frequency among the complaints in the cleaned datafram(df_clean).\n",
        "cv_uni = CountVectorizer(ngram_range=(1,1))\n",
        "X_uni = cv_uni.fit_transform(df_clean['Complaint_clean'])\n",
        "sum_uni = X_uni.sum(axis=0)  # sum frequency of each word in all complaints\n",
        "freq_uni = [(word, sum_uni[0, idx]) for word, idx in cv_uni.vocabulary_.items()]\n",
        "freq_uni = sorted(freq_uni, key=lambda x: x[1], reverse=True)\n",
        "top30_unigrams = freq_uni[:30]"
      ]
    },
    {
      "cell_type": "code",
      "execution_count": 31,
      "metadata": {
        "id": "YX7fedm1JrF8"
      },
      "outputs": [
        {
          "name": "stdout",
          "output_type": "stream",
          "text": [
            "Top 10 unigrams: [('chase', 59482), ('account', 47085), ('credit', 33593), ('card', 30187), ('bank', 21314), ('payment', 21301), ('time', 16260), ('charge', 14847), ('day', 13180), ('money', 11965)]\n"
          ]
        }
      ],
      "source": [
        "#Print the top 10 words in the unigram frequency\n",
        "print(\"Top 10 unigrams:\", top30_unigrams[:10])"
      ]
    },
    {
      "cell_type": "code",
      "execution_count": 32,
      "metadata": {
        "id": "aV7kD7w8JrF8"
      },
      "outputs": [],
      "source": [
        "#Write your code here to find the top 30 bigram frequency among the complaints in the cleaned datafram(df_clean).\n",
        "cv_bi = CountVectorizer(ngram_range=(2,2))\n",
        "X_bi = cv_bi.fit_transform(df_clean['Complaint_clean'])\n",
        "sum_bi = X_bi.sum(axis=0)\n",
        "freq_bi = [(word, sum_bi[0, idx]) for word, idx in cv_bi.vocabulary_.items()]\n",
        "freq_bi = sorted(freq_bi, key=lambda x: x[1], reverse=True)\n",
        "top30_bigrams = freq_bi[:30]"
      ]
    },
    {
      "cell_type": "code",
      "execution_count": 33,
      "metadata": {
        "id": "NPnMNIpyJrF9"
      },
      "outputs": [
        {
          "name": "stdout",
          "output_type": "stream",
          "text": [
            "Top 10 bigrams: [('credit card', 12880), ('chase bank', 4017), ('credit report', 3953), ('account chase', 3409), ('chase credit', 3126), ('customer service', 3069), ('chase account', 2779), ('checking account', 2475), ('bank account', 2415), ('account account', 2331)]\n"
          ]
        }
      ],
      "source": [
        "#Print the top 10 words in the bigram frequency\n",
        "print(\"Top 10 bigrams:\", top30_bigrams[:10])"
      ]
    },
    {
      "cell_type": "code",
      "execution_count": 34,
      "metadata": {
        "id": "Xkh7vtbtJrF-"
      },
      "outputs": [],
      "source": [
        "#Write your code here to find the top 30 trigram frequency among the complaints in the cleaned datafram(df_clean).\n",
        "cv_tri = CountVectorizer(ngram_range=(3,3))\n",
        "X_tri = cv_tri.fit_transform(df_clean['Complaint_clean'])\n",
        "sum_tri = X_tri.sum(axis=0)\n",
        "freq_tri = [(word, sum_tri[0, idx]) for word, idx in cv_tri.vocabulary_.items()]\n",
        "freq_tri = sorted(freq_tri, key=lambda x: x[1], reverse=True)\n",
        "top30_trigrams = freq_tri[:30]"
      ]
    },
    {
      "cell_type": "code",
      "execution_count": 35,
      "metadata": {
        "id": "REcVxNfvJrF-"
      },
      "outputs": [
        {
          "name": "stdout",
          "output_type": "stream",
          "text": [
            "Top 10 trigrams: [('chase credit card', 2137), ('credit card account', 1076), ('credit card company', 989), ('credit card chase', 816), ('chase customer service', 606), ('inquiry credit report', 512), ('credit card credit', 497), ('chase bank account', 429), ('account credit card', 422), ('charge credit card', 406)]\n"
          ]
        }
      ],
      "source": [
        "#Print the top 10 words in the trigram frequency\n",
        "print(\"Top 10 trigrams:\", top30_trigrams[:10])"
      ]
    },
    {
      "cell_type": "markdown",
      "metadata": {
        "id": "yUXzFji0JrF_"
      },
      "source": [
        "## The personal details of customer has been masked in the dataset with xxxx. Let's remove the masked text as this will be of no use for our analysis"
      ]
    },
    {
      "cell_type": "code",
      "execution_count": 36,
      "metadata": {
        "id": "wKda-a_IJrF_"
      },
      "outputs": [],
      "source": [
        "df_clean['Complaint_clean'] = df_clean['Complaint_clean'].str.replace('xxxx','')"
      ]
    },
    {
      "cell_type": "code",
      "execution_count": 37,
      "metadata": {
        "id": "9UIFk8fQJrF_"
      },
      "outputs": [
        {
          "data": {
            "text/html": [
              "<div>\n",
              "<style scoped>\n",
              "    .dataframe tbody tr th:only-of-type {\n",
              "        vertical-align: middle;\n",
              "    }\n",
              "\n",
              "    .dataframe tbody tr th {\n",
              "        vertical-align: top;\n",
              "    }\n",
              "\n",
              "    .dataframe thead th {\n",
              "        text-align: right;\n",
              "    }\n",
              "</style>\n",
              "<table border=\"1\" class=\"dataframe\">\n",
              "  <thead>\n",
              "    <tr style=\"text-align: right;\">\n",
              "      <th></th>\n",
              "      <th>ComplaintWhatHappened</th>\n",
              "      <th>lemmatized_complaint</th>\n",
              "      <th>complaint_POS_removed</th>\n",
              "      <th>char_length</th>\n",
              "      <th>Complaint_clean</th>\n",
              "    </tr>\n",
              "  </thead>\n",
              "  <tbody>\n",
              "    <tr>\n",
              "      <th>1</th>\n",
              "      <td>Good morning my name is XXXX XXXX and I apprec...</td>\n",
              "      <td>good morning my name be xxxx xxxx and I apprec...</td>\n",
              "      <td>morning name stop service debt verification st...</td>\n",
              "      <td>486</td>\n",
              "      <td>morning name stop service debt verification st...</td>\n",
              "    </tr>\n",
              "    <tr>\n",
              "      <th>2</th>\n",
              "      <td>I upgraded my XXXX XXXX card in XX/XX/2018 and...</td>\n",
              "      <td>I upgrade my xxxx xxxx card in xx xx and be te...</td>\n",
              "      <td>card agent anniversary date agent information ...</td>\n",
              "      <td>355</td>\n",
              "      <td>card agent anniversary date agent information ...</td>\n",
              "    </tr>\n",
              "    <tr>\n",
              "      <th>10</th>\n",
              "      <td>Chase Card was reported on XX/XX/2019. However...</td>\n",
              "      <td>chase card be report on xx xx however fraudule...</td>\n",
              "      <td>chase card report application identity consent...</td>\n",
              "      <td>224</td>\n",
              "      <td>chase card report application identity consent...</td>\n",
              "    </tr>\n",
              "    <tr>\n",
              "      <th>11</th>\n",
              "      <td>On XX/XX/2018, while trying to book a XXXX  XX...</td>\n",
              "      <td>on xx xx while try to book a xxxx xxxx ticket ...</td>\n",
              "      <td>ticket offer ticket reward card information of...</td>\n",
              "      <td>1502</td>\n",
              "      <td>ticket offer ticket reward card information of...</td>\n",
              "    </tr>\n",
              "    <tr>\n",
              "      <th>14</th>\n",
              "      <td>my grand son give me check for {$1600.00} i de...</td>\n",
              "      <td>my grand son give I check for I deposit it int...</td>\n",
              "      <td>son chase account fund chase bank account mone...</td>\n",
              "      <td>477</td>\n",
              "      <td>son chase account fund chase bank account mone...</td>\n",
              "    </tr>\n",
              "  </tbody>\n",
              "</table>\n",
              "</div>"
            ],
            "text/plain": [
              "                                ComplaintWhatHappened  \\\n",
              "1   Good morning my name is XXXX XXXX and I apprec...   \n",
              "2   I upgraded my XXXX XXXX card in XX/XX/2018 and...   \n",
              "10  Chase Card was reported on XX/XX/2019. However...   \n",
              "11  On XX/XX/2018, while trying to book a XXXX  XX...   \n",
              "14  my grand son give me check for {$1600.00} i de...   \n",
              "\n",
              "                                 lemmatized_complaint  \\\n",
              "1   good morning my name be xxxx xxxx and I apprec...   \n",
              "2   I upgrade my xxxx xxxx card in xx xx and be te...   \n",
              "10  chase card be report on xx xx however fraudule...   \n",
              "11  on xx xx while try to book a xxxx xxxx ticket ...   \n",
              "14  my grand son give I check for I deposit it int...   \n",
              "\n",
              "                                complaint_POS_removed  char_length  \\\n",
              "1   morning name stop service debt verification st...          486   \n",
              "2   card agent anniversary date agent information ...          355   \n",
              "10  chase card report application identity consent...          224   \n",
              "11  ticket offer ticket reward card information of...         1502   \n",
              "14  son chase account fund chase bank account mone...          477   \n",
              "\n",
              "                                      Complaint_clean  \n",
              "1   morning name stop service debt verification st...  \n",
              "2   card agent anniversary date agent information ...  \n",
              "10  chase card report application identity consent...  \n",
              "11  ticket offer ticket reward card information of...  \n",
              "14  son chase account fund chase bank account mone...  "
            ]
          },
          "execution_count": 37,
          "metadata": {},
          "output_type": "execute_result"
        }
      ],
      "source": [
        "#All masked texts has been removed\n",
        "df_clean.head()"
      ]
    },
    {
      "cell_type": "markdown",
      "metadata": {
        "id": "k-I0k0QtJrGA"
      },
      "source": [
        "## Feature Extraction\n",
        "Convert the raw texts to a matrix of TF-IDF features\n",
        "\n",
        "**max_df** is used for removing terms that appear too frequently, also known as \"corpus-specific stop words\"\n",
        "max_df = 0.95 means \"ignore terms that appear in more than 95% of the complaints\"\n",
        "\n",
        "**min_df** is used for removing terms that appear too infrequently\n",
        "min_df = 2 means \"ignore terms that appear in less than 2 complaints\""
      ]
    },
    {
      "cell_type": "code",
      "execution_count": 38,
      "metadata": {
        "id": "Y8fGwaCPJrGA"
      },
      "outputs": [],
      "source": [
        "#Write your code here to initialise the TfidfVectorizer\n",
        "tfidf = TfidfVectorizer(max_df=0.95, min_df=2)"
      ]
    },
    {
      "cell_type": "markdown",
      "metadata": {
        "id": "yYzD85nTJrGA"
      },
      "source": [
        "#### Create a document term matrix using fit_transform\n",
        "\n",
        "The contents of a document term matrix are tuples of (complaint_id,token_id) tf-idf score:\n",
        "The tuples that are not there have a tf-idf score of 0"
      ]
    },
    {
      "cell_type": "code",
      "execution_count": 39,
      "metadata": {
        "id": "ffzdDpp_JrGB"
      },
      "outputs": [
        {
          "name": "stdout",
          "output_type": "stream",
          "text": [
            "Document-Term matrix shape: (21072, 6471)\n"
          ]
        }
      ],
      "source": [
        "#Write your code here to create the Document Term Matrix by transforming the complaints column present in df_clean.\n",
        "dtm = tfidf.fit_transform(df_clean['Complaint_clean'])\n",
        "print(\"Document-Term matrix shape:\", dtm.shape)"
      ]
    },
    {
      "cell_type": "markdown",
      "metadata": {
        "id": "7Q9lwvNEJrGB"
      },
      "source": [
        "## Topic Modelling using NMF\n",
        "\n",
        "Non-Negative Matrix Factorization (NMF) is an unsupervised technique so there are no labeling of topics that the model will be trained on. The way it works is that, NMF decomposes (or factorizes) high-dimensional vectors into a lower-dimensional representation. These lower-dimensional vectors are non-negative which also means their coefficients are non-negative.\n",
        "\n",
        "In this task you have to perform the following:\n",
        "\n",
        "* Find the best number of clusters\n",
        "* Apply the best number to create word clusters\n",
        "* Inspect & validate the correction of each cluster wrt the complaints\n",
        "* Correct the labels if needed\n",
        "* Map the clusters to topics/cluster names"
      ]
    },
    {
      "cell_type": "code",
      "execution_count": 40,
      "metadata": {
        "id": "amLT4omWJrGB"
      },
      "outputs": [],
      "source": [
        "from sklearn.decomposition import NMF"
      ]
    },
    {
      "cell_type": "markdown",
      "metadata": {
        "id": "0wYR1xUTJrGD"
      },
      "source": [
        "## Manual Topic Modeling\n",
        "You need to do take the trial & error approach to find the best num of topics for your NMF model.\n",
        "\n",
        "The only parameter that is required is the number of components i.e. the number of topics we want. This is the most crucial step in the whole topic modeling process and will greatly affect how good your final topics are."
      ]
    },
    {
      "cell_type": "code",
      "execution_count": 41,
      "metadata": {
        "id": "sgd2A6bhJrGD"
      },
      "outputs": [],
      "source": [
        "#Load your nmf_model with the n_components i.e 5\n",
        "num_topics = 5 #write the value you want to test out\n",
        "\n",
        "#keep the random_state =40\n",
        "nmf_model = NMF(n_components=num_topics, random_state=40) #write your code here"
      ]
    },
    {
      "cell_type": "code",
      "execution_count": 45,
      "metadata": {
        "id": "VPMDYbt_JrGE"
      },
      "outputs": [
        {
          "name": "stdout",
          "output_type": "stream",
          "text": [
            "Number of features (unique words) after TF-IDF: 6471\n"
          ]
        }
      ],
      "source": [
        "nmf_model.fit(dtm)\n",
        "\n",
        "feature_names = tfidf.get_feature_names_out()\n",
        "print(f\"Number of features (unique words) after TF-IDF: {len(feature_names)}\")"
      ]
    },
    {
      "cell_type": "code",
      "execution_count": 46,
      "metadata": {
        "id": "16kRfat5JrGE"
      },
      "outputs": [
        {
          "name": "stdout",
          "output_type": "stream",
          "text": [
            "Topic 0: ['claim', 'transfer', 'transaction', 'business', 'number', 'checking', 'day', 'branch', 'deposit', 'fund', 'chase', 'money', 'bank', 'check', 'account']\n",
            "Topic 1: ['reason', 'time', 'application', 'purchase', 'month', 'offer', 'point', 'year', 'score', 'limit', 'account', 'balance', 'chase', 'credit', 'card']\n",
            "Topic 2: ['statement', 'amount', 'property', 'balance', 'rate', 'year', 'time', 'interest', 'modification', 'month', 'home', 'chase', 'mortgage', 'loan', 'payment']\n",
            "Topic 3: ['file', 'bureaus', 'letter', 'bureau', 'score', 'theft', 'account', 'identity', 'debt', 'reporting', 'information', 'company', 'credit', 'inquiry', 'report']\n",
            "Topic 4: ['company', 'day', 'time', 'refund', 'service', 'amount', 'purchase', 'fraud', 'claim', 'merchant', 'chase', 'transaction', 'fee', 'dispute', 'charge']\n"
          ]
        }
      ],
      "source": [
        "#Print the Top15 words for each of the topics\n",
        "for idx, topic in enumerate(nmf_model.components_):\n",
        "    top15_indices = topic.argsort()[-15:]  # indices of top 15 weights in this topic\n",
        "    top_words = [feature_names[i] for i in top15_indices]\n",
        "    print(f\"Topic {idx}: {top_words}\")"
      ]
    },
    {
      "cell_type": "code",
      "execution_count": 47,
      "metadata": {
        "id": "0OIT7LmFJrGF"
      },
      "outputs": [],
      "source": [
        "#Create the best topic for each complaint in terms of integer value 0,1,2,3 & 4\n",
        "topic_values = nmf_model.transform(dtm)"
      ]
    },
    {
      "cell_type": "code",
      "execution_count": 48,
      "metadata": {
        "id": "peyYv-ORJrGF"
      },
      "outputs": [],
      "source": [
        "#Assign the best topic to each of the cmplaints in Topic Column\n",
        "\n",
        "df_clean['Topic'] = topic_values.argmax(axis=1) #write your code to assign topics to each rows."
      ]
    },
    {
      "cell_type": "code",
      "execution_count": 49,
      "metadata": {
        "id": "fLh_Gf3nJrGF"
      },
      "outputs": [
        {
          "data": {
            "text/html": [
              "<div>\n",
              "<style scoped>\n",
              "    .dataframe tbody tr th:only-of-type {\n",
              "        vertical-align: middle;\n",
              "    }\n",
              "\n",
              "    .dataframe tbody tr th {\n",
              "        vertical-align: top;\n",
              "    }\n",
              "\n",
              "    .dataframe thead th {\n",
              "        text-align: right;\n",
              "    }\n",
              "</style>\n",
              "<table border=\"1\" class=\"dataframe\">\n",
              "  <thead>\n",
              "    <tr style=\"text-align: right;\">\n",
              "      <th></th>\n",
              "      <th>ComplaintWhatHappened</th>\n",
              "      <th>lemmatized_complaint</th>\n",
              "      <th>complaint_POS_removed</th>\n",
              "      <th>char_length</th>\n",
              "      <th>Complaint_clean</th>\n",
              "      <th>Topic</th>\n",
              "    </tr>\n",
              "  </thead>\n",
              "  <tbody>\n",
              "    <tr>\n",
              "      <th>1</th>\n",
              "      <td>Good morning my name is XXXX XXXX and I apprec...</td>\n",
              "      <td>good morning my name be xxxx xxxx and I apprec...</td>\n",
              "      <td>morning name stop service debt verification st...</td>\n",
              "      <td>486</td>\n",
              "      <td>morning name stop service debt verification st...</td>\n",
              "      <td>0</td>\n",
              "    </tr>\n",
              "    <tr>\n",
              "      <th>2</th>\n",
              "      <td>I upgraded my XXXX XXXX card in XX/XX/2018 and...</td>\n",
              "      <td>I upgrade my xxxx xxxx card in xx xx and be te...</td>\n",
              "      <td>card agent anniversary date agent information ...</td>\n",
              "      <td>355</td>\n",
              "      <td>card agent anniversary date agent information ...</td>\n",
              "      <td>1</td>\n",
              "    </tr>\n",
              "    <tr>\n",
              "      <th>10</th>\n",
              "      <td>Chase Card was reported on XX/XX/2019. However...</td>\n",
              "      <td>chase card be report on xx xx however fraudule...</td>\n",
              "      <td>chase card report application identity consent...</td>\n",
              "      <td>224</td>\n",
              "      <td>chase card report application identity consent...</td>\n",
              "      <td>3</td>\n",
              "    </tr>\n",
              "    <tr>\n",
              "      <th>11</th>\n",
              "      <td>On XX/XX/2018, while trying to book a XXXX  XX...</td>\n",
              "      <td>on xx xx while try to book a xxxx xxxx ticket ...</td>\n",
              "      <td>ticket offer ticket reward card information of...</td>\n",
              "      <td>1502</td>\n",
              "      <td>ticket offer ticket reward card information of...</td>\n",
              "      <td>3</td>\n",
              "    </tr>\n",
              "    <tr>\n",
              "      <th>14</th>\n",
              "      <td>my grand son give me check for {$1600.00} i de...</td>\n",
              "      <td>my grand son give I check for I deposit it int...</td>\n",
              "      <td>son chase account fund chase bank account mone...</td>\n",
              "      <td>477</td>\n",
              "      <td>son chase account fund chase bank account mone...</td>\n",
              "      <td>0</td>\n",
              "    </tr>\n",
              "  </tbody>\n",
              "</table>\n",
              "</div>"
            ],
            "text/plain": [
              "                                ComplaintWhatHappened  \\\n",
              "1   Good morning my name is XXXX XXXX and I apprec...   \n",
              "2   I upgraded my XXXX XXXX card in XX/XX/2018 and...   \n",
              "10  Chase Card was reported on XX/XX/2019. However...   \n",
              "11  On XX/XX/2018, while trying to book a XXXX  XX...   \n",
              "14  my grand son give me check for {$1600.00} i de...   \n",
              "\n",
              "                                 lemmatized_complaint  \\\n",
              "1   good morning my name be xxxx xxxx and I apprec...   \n",
              "2   I upgrade my xxxx xxxx card in xx xx and be te...   \n",
              "10  chase card be report on xx xx however fraudule...   \n",
              "11  on xx xx while try to book a xxxx xxxx ticket ...   \n",
              "14  my grand son give I check for I deposit it int...   \n",
              "\n",
              "                                complaint_POS_removed  char_length  \\\n",
              "1   morning name stop service debt verification st...          486   \n",
              "2   card agent anniversary date agent information ...          355   \n",
              "10  chase card report application identity consent...          224   \n",
              "11  ticket offer ticket reward card information of...         1502   \n",
              "14  son chase account fund chase bank account mone...          477   \n",
              "\n",
              "                                      Complaint_clean  Topic  \n",
              "1   morning name stop service debt verification st...      0  \n",
              "2   card agent anniversary date agent information ...      1  \n",
              "10  chase card report application identity consent...      3  \n",
              "11  ticket offer ticket reward card information of...      3  \n",
              "14  son chase account fund chase bank account mone...      0  "
            ]
          },
          "execution_count": 49,
          "metadata": {},
          "output_type": "execute_result"
        }
      ],
      "source": [
        "df_clean.head()"
      ]
    },
    {
      "cell_type": "code",
      "execution_count": 50,
      "metadata": {
        "id": "aQKpufSPJrGG"
      },
      "outputs": [
        {
          "name": "stdout",
          "output_type": "stream",
          "text": [
            "Topic 0 examples:\n",
            "['Good morning my name is XXXX XXXX and I appreciate it if you could help me put a stop to Chase Bank cardmember services. \\nIn 2018 I wrote to Chase asking for debt verification and what they sent me a statement which is not acceptable. I am asking the bank to validate the debt. Instead I been receiving mail every month from them attempting to collect a debt. \\nI have a right to know this information as a consumer. \\n\\nChase account # XXXX XXXX XXXX XXXX Thanks in advance for your help.', 'mishandling of this account by Chase auto and XXXX.', 'With out notice J.P. Morgan Chase restricted my account by my debit card Tuesday XX/XX/2019. On Thursday XX/XX/2019 I went into A branch after being advised by a customer service representative that my account would actually be closed. I went into the branch to see how I can remove the funds that are in there currently in as well as if my direct deposit from my place of employment would be returned. The bank associate and the customer service representative assured me that the funds would Post but they may take an additional business day. That Saturday I attempted to go inside of a branch yet again to retrieve my funds that actually did post on Friday, XX/XX/2019. Upon looking at my account I realize that the funds have been reversed and no longer were present on my current statement. Ive been called and I was told that it may take two business day stating Tuesday, XX/XX/XXXX would be the date that my funds would be available to withdraw from a bank teller only. Now, Chase is informing me that I will be mailed a check into the three business days to recover the funds that are owed to me and left in my account currently. Unfortunately, This has put me in an additional financial bind do two fees from late rent late car payments, etc. I am not being a short or giving written notice that these things will actually occur so that I have peace of mind in fact Chase has handled my situation grossly I even had a bank teller inform me that my account looks suspicious after giving me a suspicious look myself. Although I know that Chase reserves the right to close my account at any time I do believe that their protocol has been in the past to give notice in the form of a written document. I am not being a shored or giving written notice that these things will actually occur so that I have peace of mind in fact Chase has handled my situation grossly I even had a bank teller inform me that my account looks suspicious after giving me a suspicious look myself. Although I know that Chase reserves the right to close my account at any time I do believe that their protocol has been in the past to give notice in the form of a written document. This situation is truly affecting my livelihood and they dont seem to want to deal with Me professionally. Thank you', 'my grand son give me check for {$1600.00} i deposit it into my chase account after fund clear my chase bank closed my account never paid me my money they said they need to speek with my grand son check was clear money was taking by my chase bank refuse to pay me my money my grand son called chase 2 times they told him i should call not him to verify the check owner he is out the country most the time  date happen XX/XX/2018 check number XXXX claim number is XXXX with chase', 'I opened an account with chase bank on XXXX and used a code for XXXX bonus. I called to follow up on XX/XX/XXXX about the terms and was told everything was on the account and once I made XXXX direct deposit the bonus would be paid out in 10 days. As of XXXX I had made the required deposits and was told my account never had the coupon code applied and it was past the 21 days to do so, so no bonus would be paid.']\n",
            "-----\n",
            "\n",
            "Topic 1 examples:\n",
            "['My chase amazon card was declined for a catering order I had placed for my brothers funeral in the amount of {$710.00}. I contacted chase around noon today XX/XX/2019 and was asked the last 4 numbers of my chase savings account and the other user on my account. I responded that I did not have a savings and I am only authorized user. Customer rep told me they would call me back in 10 minutes to keep the line open. I didnt receive a call back after an hour so I contacted chase. From the first call I thought someone was using my card fraudulently. I spoke to the rep who transferred me to a supervisor XXXX who said the card was activated and the transaction would process. Called the catering company and card was declined. I then used my XXXX  XXXX card to pay for the order. XXXX XXXX texted me asking if I was authorizing purchase and I responded yes. Contacted caterer and XXXX  XXXX was declined. I contacted chase again spoke to rep was told the initial questions are used to trick people to see what there answer would be. She told me the CVV code was incorrectly being input by the caterer and I responded that I had gone over the numbers and CVV used was correct. She told me the card was cleared for the purchase and she would monitor it for 24 hours. Called caterer - card declined. Use a MasterCard  which processed. Went to use chase amazon at restaurant at XXXX pm tonight in the amount of {$63.00} - it was declined. I was told by chase I was not over limit. Still frustrated figuring out multiple declines after several conversations with chase stating the card would be ok to use. Embarrassed as the caterer kept suggesting I was over my limit which I pay my card in full every month and chase confirmed that I was under my limit with the {$710.00} transaction. Never been declined by either chase or XXXX  XXXX before - today after multiple assurances that I was all set and card would be monitored to make sure transaction would clear - it never did', 'I currently have over XXXX Chase Ultimate Rewards points, which are worth at least {$7500.00}. \\n\\nAround XX/XX/2018 ( 4 months ago ), when I tried to access my Chase Ultimate Rewards account ( or even activate the 5 % bonus on Chase Freedom ), I would get shown this page that says \" We are unable to complete your request at this time \\'\\' ( image attached as well ) : XXXX : XXXX At first I thought it was just a temporary error ( which isn\\'t uncommon for Chase ), but after 2 weeks this was still happening, so I called customer support. They opened a ticket, got escalated to their tech team, but when I would call back to find out what happened, they told me that the case had been closed. This happened 3 times, and each call has taken a lot of time to explain the situation and verify a bunch of information. \\n\\nGoing from ultimaterewards.com and chase.com have the  same result. \\n\\nI\\'m not able to use these points by phone either, because the operators for the Travel Center are not able to access my account/points neither. \\n\\nI\\'ve tried every browser, both XXXX and XXXX computers, and the XXXX Chase phone application. They all send me to the page that says \" We are unable to complete your request at this time \\'\\' On XX/XX/XXXX, I looked up some people that work in Ultimate Rewards on XXXX, and cold called a VP of Customer Relations. He acted like he was helpful at first, and we exchanged some emails. He eventually said I can buy a flight/hotel using Chase Sapphire and if I give him the details, he will deduct the appropriate points and credit my credit card for the purchase. \\n\\nLong story short, he wasn\\'t able to fix anything. \\n\\nI can see that I\\'m still collecting points, but I haven\\'t been able to access it. \\n\\nI travel a lot, and it\\'s become a huge inconvenience that I\\'m not able to access these points which I intended to use for travel. I need to get this issue resolved ASAP.', 'My roommate was stealing my Chase debit card and drivers license ; pretending to be me and withdrawing money from my account. He admitted that he figured out my pin because it happens to be the same as my phone password. \\n\\nHe also admitted that he would sneak into my room while I was sleeping and put the card back before I woke up. \\n\\nHe apologized but says he spent the money. I tried to dispute this with Chase but they claim that since my debit card PIN number was used that they cant prove it wasnt me. \\n\\nAlthough they advertise that I have 100 % Fraud Protection they refuse to give me my money back. \\n\\nATM Withdrawl - XX/XX/XXXX - {$200.00} ATM Withdrawl - XX/XX/XXXX - {$200.00} ATM Withdrawl - XX/XX/XXXX - {$280.00} ATM Withdrawl - XX/XX/XXXX - {$240.00} ATM Withdrawl - XX/XX/XXXX - {$2500.00} ATM Withdrawl - XX/XX/XXXX - {$980.00}', 'I upgraded my XXXX XXXX card in XX/XX/2018 and was told by the agent who did the upgrade my anniversary date would not change. It turned the agent was giving me the wrong information in order to upgrade the account. XXXX   changed my anniversary date from XX/XX/XXXX to XX/XX/XXXX without my consent! XXXX has the recording of the agent who was misled me.', 'I AM A SENIOR CITIZEN THAT HAS BEEN SCAMMED BY SEVERAL COMPANIES FROM XXXX TO XXXX. I HAVE PAID OVER {$17000.00} TO THESE TIME SHARE COMPANIES AND THEY HAVE DID NOTHING AT ALL. THEY WERE ALL MISLEADING AND I HAVE TRIED TO GET A REFUND FROM THEM AND MY CREDIT CARD. I HAVE BEEN UNSUCCEFUL. I HAVE ALL THE INFORMATION ON EVERY COMPANY THAT I HAVE PAID.']\n",
            "-----\n",
            "\n",
            "Topic 2 examples:\n",
            "['I made a purchase of {$260.00} on XX/XX/XXXX. I made payments of {$160.00} on XX/XX/XXXX and {$260.00} on XX/XX/XXXX. The minimum payment was {$140.00}. The closing date was XX/XX/XXXX ( please see attached statement ). That statement ( XX/XX/XXXX ) shows that I had an outstanding purchase balance of {$230.00} on XX/XX/XXXX. I have enclosed the previous months statement to show that there were NO other purchases prior to the one on XX/XX/XXXX. \\nHowever, when I got the XXXX statement, it shows that I still have a purchase balance of {$210.00}. I have a promotional balance (@XXXX ) in XXXX of {$6900.00}. In XXXX, the promotional balance was {$7200.00} - a difference of {$380.00}. \\n\\nApparently, the payment ( above the minimum payment required by Chase ) I thought would be applied to the purchase (@ 21.49 % ) was applied to the promotional balance first. It is my understanding that once the minimum payment has been met, payments in excess of the minimum would be applied to the highest interest rate balance first. This is not the first time that Chase has skirted US Financial Law to turn a larger profit. I need help in rectifying this problem, because my logic fell on deaf ears at Chase. Thank you in advance for your assistance. \\n\\nRespectfully, XXXX XXXX XXXX', \"I have been trying to do a loan modification with Chase and all they do is give me the runaround I'm 72 mo behind they dont let me make payments I have aens all doc in but always asking more\", 'I bought a new XXXX XXXX on XX/XX/XXXX from XXXX XXXX XXXX in XXXX. \\nI paid the loan in XX/XX/XXXXbut chase financial never release the title. \\nI contacted chase several time with no resolution. Each time they told me they will release it but nothing was done. \\nNow I moved to another state and I can not get the registration in the other state because I do not have the title. \\nI will be obliged to rent a car since I can not use my car', 'During the summer months, I experience a decline income due to my employment. Therefore, I request a one month payment extension with my Auto Loan Company, Chase. For the past almost fours years, my request for payment extension is granted. I have never been delinquent with my auto loan payment. However, On XX/XX/2019 my request for a one month payment extension was denied this year. I explained my situation to representative and the supervisor with no avail. After a lengthy discussion and waiting, I was informed the reason for the decline as it is not \" contractual \\'\\'. This reason for denial baffled me and therefore I emailed the office of XXXX XXXX Executive Director, Communications, JPMorgan Chase & Co. A representative contacted me and stated Chase will follow-up. About week later a representative of XXXX XXXX XXXX XXXX office called. The representative shared her role was help resolve the matter. The representative via conference call contacted the department handing my request. After, reviewing my information my request was still denied based on \" policy changes \\'\\'. I requested an explanation and representative stated a letter will be mailed with explanation. I have received XXXX letters the reason for denial was not \" policy changes \\'\\'. I would like CFPB help in exploring the denial of my payment extension request especially since I have been clear reason for denial.', 'I have wired through one of Chase branches in XXXX XXXX, the exact Reinstatement Amount of {$43000.00} to JPMorgan Chase Bank In order to remove/withdraw their wrongful foreclosure proceedings on my residential property.\\n\\nHowever, the Chase Executive Ms. XXXX XXXX, and it\\'s trustee, XXXX XXXX XXXX XXXX are not honoring even their own rules and regulations, she wants the Total Payoff of {$100000.00} now in order to remove their wrongful foreclosure proceedings with Sales Date of XX/XX/2019 at XXXX XXXX on my family resident.\\n\\nShe knows I can not prepare XXXX in such a short time. That\\'s why I asked for minimum reinstatement amount to avoid foreclosure without resorting to Chapter XXXX- bankruptcy filing.\\n\\nI appreciate you assistant in bringing JPMorgan Chase and it\\'s foreclosure trustee, XXXX XXXX XXXX XXXX. \" Quality \\'\\' to their senses, and stop harassing my family with their fraudulent default claim as explained in my previous complaint about them on XX/XX/XXXX.\\n\\nMy previous complaint ID is. XXXX, submitted XX/XX/2019. Product : Mortgage Issue wrongful foreclosure.\\n\\nThank you, XXXX XXXX Tell : ( XXXX ) XXXX Email : XXXX XXXX']\n",
            "-----\n",
            "\n",
            "Topic 3 examples:\n",
            "['On XX/XX/2018, while trying to book a XXXX  XXXX  ticket, I came across an offer for {$300.00} to be applied towards the ticket if I applied for a rewards card. I put in my information for the offer and within less than a minute, was notified via the screen that a decision could not be made. I immediately contacted XXXX and was referred to Chase Bank. I then immediately contacted Chase bank within no more than 10minutes of getting the notification on the screen and I was told by the Chase representative I spoke with that my application was denied but she could not state why. I asked for more information about the XXXX  offer and she explained that even if I had been approved, the credit offer only gets applied after the first account statement and could not be used to purchase the ticket. I then explicitly told her I was glad I got denied and I was ABSOLUTELY no longer interested in the account. I asked that the application be withdrawn and the representative obliged. This all happened no later than 10mins after putting in the application on XX/XX/2018. Notwithstanding my explicit request not to proceed with the application and contrary to what I was told by the Chase representative, Chase did in fact go ahead to open a credit account in my name on XX/XX/2018. This is now being reported in my Credit Report and Chase has refused to correct this information on my credit report even though they went ahead to process an application which I did not consent to and out of their error.', \"I have reached out to XXXX several times in attempt to have this fraudulent inquiry removed I was told that I need to call and contact the original creditor that placed this inquiry on my report. I have made several attempts to get chase bank to contact the bureau and remove this inquiry that was not authorized by me. They seem to not be able to get me to the right person to take care of this issue no matter how many attempts I have made nobody seems to understand what I'm talkin about. I want chase bank to have this fraudulent inquiry removed from my credit report before I take legal action. I I have never requested any kind of credit with chase bank or hold any account with them. I have an iquiry from XX/XX/2019. I want this matter resolved.\", 'I have a Chase credit card which is incorrectly reporting data on my credit report. The company is not helping resolve the issue.', 'Chase Card was reported on XX/XX/2019. However, fraudulent application have been submitted my identity without my consent to fraudulently obtain services. Do not extend credit without verifying the identity of the applicant.', 'Can you please remove inquiry']\n",
            "-----\n",
            "\n",
            "Topic 4 examples:\n",
            "[\"To whom it may concern, Chase bank charged wrongly overdraft fees, I have alert of low balance or unsuficent fee balance and always deposit immediatly to cover transactions if needed but Chase always changed the order and charged me overdraft fee anyway. when you call they said their per their guidelines they don't refund more then 2 overdrawft doesn't matter bank fault or not.\\n\\nTaken {$34.00} from people is money just because you can is not Ok.\\n\\nSee attached documents. When Chase refund, they always find the way to take back what they refunded in first place.\", 'XXXX XXXX a sofa, love seat, table and chairs and was never delivered. Debit card charged {$2400.00}. Bank says Visa denied claim, we have no furniture and no money.', 'I made a purchase with XXXX XXXX XXXX on XX/XX/2019 in the amount of {$38.00}. I was charged twice for this transaction. I placed a disputes case with Chase bank on XX/XX/2019 when I noticed the charge on my account. I called back on Sunday, XX/XX/2019 about the provisional credit for the charge and again on Monday, XX/XX/2019. I was told the charge had to post before a provisional credit could be provided. I used my debt card on Monday, XX/XX/2019 then tried to use it again but it would not work. I went to Chase bank on XXXX XXXX XXXX in XXXX XXXX, Nevada and was told that my account was closed due to fraudulent activity. I was shocked because I had not reported fraud on my account. I later found out that I was being accused by the disputes department of placing a fraudulent disputes case for the duplicate charge from XXXX XXXX  XXXX. I later contacted XXXX XXXX  XXXX again and was told that they DID see a duplicate charge and would credit my account within 3 - 5  days. I contacted the chase disputes department again on Monday, XX/XX/XXXX. 2019 and explained thaXXXX XXXX XXXX XXXX would credit my account and that I did not like being accused of making a fraudulent disputes claim. The escalation manager did NOT care and told me that Chase decision on closing my account was final. I had been a customer of Chase for XXXX   years. My character has been challenged by the disputes agents and I consider this to be detrimental to my character and slander. \\n\\nI am NOT seeking to keep my account open with Chase BUT I also do NOT want Chase reporting that they closed my checking account involuntarily. \\n\\nOnce again, I do NOT want Chase to have the checking account that I had with them being reflecting on any public records as being closed as involuntary closure by Chase. \\n\\nI did nothing wrong by filing a disputes claim for the duplicate charge or any other disputes cases that were filed in the past.', \"JP Morgan Chase Bank, please answer the following questions : 1. ) On XX/XX/XXXX, XX/XX/XXXX,XX/XX/XXXX, XX/XX/XXXX & XX/XX/XXXX, JPMorgan Chase accessed information about me through XXXX XXXX XXXX , XXXX. \\n*What was the valid reason for accessing my personal information through XXXX XXXX XXXX , XXXX? \\n\\n2. ) The Chase Checking Account that was closed recently during XX/XX/XXXX had a routing or XXXX number of XXXX, according to checks and statements provided to me by Chase. \\nXXXX XXXX XXXX showed Chase reporting an XXXX routing number of XXXX, before and after I had disputed the XXXX number with Chase. \\n*Why do these two routing numbers not match? \\n\\n3. ) XX/XX/XXXX, I received a response, from XXXX XXXX XXXX XXXX, to a dispute about information Chase was providing on my report. Dispute case ID XXXX The information Chase had been submitting was deleted due to disputed info being incomplete, inaccurate or unverifiable. \\n*Is this true? \\n\\nOnce again, I have asked 3. ) * questions. \\n\\nI will send the CFPB copies of the information I have pertaining to the 3 questions in this complaint, via US Mail, which are the XXXX XXXX XXXX, XXXX reports I've received. \\n\\nThank you for your attention and humbly await your response,\", 'On XXXX XX/XX/2019, I made a {$300.00} payment to an online retailer using Chase quick pay with XXXX on the Chase website. I realized that this was a scam website after no confirmation, product, or response to any inquiries regarding the order and contacted Chase to get more information about the transaction to attempt getting a refund through the retailers bank. \\n\\nI contacted Chase via a secured message on XX/XX/2019 explaining what happened and asked \" Is there a way to reverse this transaction, or do you have a contact at XXXX that can give me more information about the recipient? \\'\\' That XXXX, my message was reviewed and I received a response restating my original email and informing me that \" The transfer has been completed. However, as you mentioned that the website is a scam while we can handle most inquiries by email, some require the expertise of another team. In order to assist you better in regards to the refund we request you to call our Consumer Online Technical Support Team. \\'\\' I called the number listed in the email and explained my situation to then be transferred to the claims department. I was directed to call XXXX and ask them about the transaction because Chase did not have any information outside of what I provided when initiating the transfer. I felt like this agent was trying to get me to end the call as quickly as possible and I had to interrupt her closing script to ask for a contact number at XXXX and didn\\'t have an opportunity to get any information about what the right questions would be to ask XXXX or what words and phrases I should use to get the information I was looking for. \\n\\nI called XXXX who\\'s automated system initially directed me to call my bank because I used the banks app to initiate the transaction. I called XXXX again to navigate their menus and talk to a customer service agent. They told me that all of the information about the transaction would in Chase \\'s system because I used the banks app to perform the transaction. She stayed on the line with me until I understood everything that I should ask and had a better understanding of the situation. I ended the call and called chase again. \\n\\nWhen I called chase the second time, the agent tried to look up the information about the receiving bank but could not find any additional information. She then asked me why I needed this information and I explained my situation again. I was once again transferred to the claims department, who told me that I needed to contact XXXX to get the information I was looking for. After I told her that I had already contacted them, she finally admitted that there was nothing that she could do due to the nature of the transaction and that these types of transactions are not secured. She said that Chase had no information about the recipient other than the email address that I inputted and that the recipients banking information was not kept in the system. In both phone calls, they asked if I initiated that transaction, and used that to absolve themselves of all responsibility in regards to this matter. \\n\\nDuring this whole process, it felt like Chase was not transparent about their policies regarding these types of transactions nor were they helpful in helping me get any information about the situation. These transactions are advertised as a \" fast, safe and easy way to send money, \\'\\' but seem to be a dangerous way to do business. I feel deceived by Chase \\'s advertising and further victimized by the way I was treated by the members on their customer service team.']\n",
            "-----\n",
            "\n"
          ]
        }
      ],
      "source": [
        "#Print the first 5 Complaint for each of the Topics\n",
        "df_sample = df_clean.groupby('Topic').head(5).sort_values('Topic')\n",
        "for t in sorted(df_sample['Topic'].unique()):\n",
        "    print(f\"Topic {t} examples:\")\n",
        "    print(df_sample[df_sample['Topic']==t]['ComplaintWhatHappened'].tolist())\n",
        "    print(\"-----\\n\")\n"
      ]
    },
    {
      "cell_type": "markdown",
      "metadata": {
        "id": "piyLxzj6v07j"
      },
      "source": [
        "#### After evaluating the mapping, if the topics assigned are correct then assign these names to the relevant topic:\n",
        "* Bank Account services\n",
        "* Credit card or prepaid card\n",
        "* Theft/Dispute Reporting\n",
        "* Mortgage/Loan\n",
        "* Others"
      ]
    },
    {
      "cell_type": "code",
      "execution_count": 51,
      "metadata": {
        "id": "TWpwDG4RJrGG"
      },
      "outputs": [],
      "source": [
        "#Create the dictionary of Topic names and Topics\n",
        "\n",
        "Topic_names = {\n",
        "    0: \"Bank Account services\",\n",
        "    1: \"Credit card or prepaid card\",\n",
        "    2: \"Theft/Dispute Reporting\",\n",
        "    3: \"Mortgage/Loan\",\n",
        "    4: \"Others\"\n",
        "}\n",
        "\n",
        "#Replace Topics with Topic Names\n",
        "df_clean['Topic'] = df_clean['Topic'].map(Topic_names)\n"
      ]
    },
    {
      "cell_type": "code",
      "execution_count": 52,
      "metadata": {
        "id": "-2ULY5K6JrGG"
      },
      "outputs": [
        {
          "data": {
            "text/html": [
              "<div>\n",
              "<style scoped>\n",
              "    .dataframe tbody tr th:only-of-type {\n",
              "        vertical-align: middle;\n",
              "    }\n",
              "\n",
              "    .dataframe tbody tr th {\n",
              "        vertical-align: top;\n",
              "    }\n",
              "\n",
              "    .dataframe thead th {\n",
              "        text-align: right;\n",
              "    }\n",
              "</style>\n",
              "<table border=\"1\" class=\"dataframe\">\n",
              "  <thead>\n",
              "    <tr style=\"text-align: right;\">\n",
              "      <th></th>\n",
              "      <th>ComplaintWhatHappened</th>\n",
              "      <th>Topic</th>\n",
              "    </tr>\n",
              "  </thead>\n",
              "  <tbody>\n",
              "    <tr>\n",
              "      <th>1</th>\n",
              "      <td>Good morning my name is XXXX XXXX and I apprec...</td>\n",
              "      <td>Bank Account services</td>\n",
              "    </tr>\n",
              "    <tr>\n",
              "      <th>2</th>\n",
              "      <td>I upgraded my XXXX XXXX card in XX/XX/2018 and...</td>\n",
              "      <td>Credit card or prepaid card</td>\n",
              "    </tr>\n",
              "    <tr>\n",
              "      <th>10</th>\n",
              "      <td>Chase Card was reported on XX/XX/2019. However...</td>\n",
              "      <td>Mortgage/Loan</td>\n",
              "    </tr>\n",
              "    <tr>\n",
              "      <th>11</th>\n",
              "      <td>On XX/XX/2018, while trying to book a XXXX  XX...</td>\n",
              "      <td>Mortgage/Loan</td>\n",
              "    </tr>\n",
              "    <tr>\n",
              "      <th>14</th>\n",
              "      <td>my grand son give me check for {$1600.00} i de...</td>\n",
              "      <td>Bank Account services</td>\n",
              "    </tr>\n",
              "    <tr>\n",
              "      <th>15</th>\n",
              "      <td>Can you please remove inquiry</td>\n",
              "      <td>Mortgage/Loan</td>\n",
              "    </tr>\n",
              "    <tr>\n",
              "      <th>17</th>\n",
              "      <td>With out notice J.P. Morgan Chase restricted m...</td>\n",
              "      <td>Bank Account services</td>\n",
              "    </tr>\n",
              "    <tr>\n",
              "      <th>20</th>\n",
              "      <td>During the summer months, I experience a decli...</td>\n",
              "      <td>Theft/Dispute Reporting</td>\n",
              "    </tr>\n",
              "    <tr>\n",
              "      <th>21</th>\n",
              "      <td>On XXXX XX/XX/2019, I made a {$300.00} payment...</td>\n",
              "      <td>Others</td>\n",
              "    </tr>\n",
              "    <tr>\n",
              "      <th>23</th>\n",
              "      <td>I have a Chase credit card which is incorrectl...</td>\n",
              "      <td>Mortgage/Loan</td>\n",
              "    </tr>\n",
              "  </tbody>\n",
              "</table>\n",
              "</div>"
            ],
            "text/plain": [
              "                                ComplaintWhatHappened  \\\n",
              "1   Good morning my name is XXXX XXXX and I apprec...   \n",
              "2   I upgraded my XXXX XXXX card in XX/XX/2018 and...   \n",
              "10  Chase Card was reported on XX/XX/2019. However...   \n",
              "11  On XX/XX/2018, while trying to book a XXXX  XX...   \n",
              "14  my grand son give me check for {$1600.00} i de...   \n",
              "15                      Can you please remove inquiry   \n",
              "17  With out notice J.P. Morgan Chase restricted m...   \n",
              "20  During the summer months, I experience a decli...   \n",
              "21  On XXXX XX/XX/2019, I made a {$300.00} payment...   \n",
              "23  I have a Chase credit card which is incorrectl...   \n",
              "\n",
              "                          Topic  \n",
              "1         Bank Account services  \n",
              "2   Credit card or prepaid card  \n",
              "10                Mortgage/Loan  \n",
              "11                Mortgage/Loan  \n",
              "14        Bank Account services  \n",
              "15                Mortgage/Loan  \n",
              "17        Bank Account services  \n",
              "20      Theft/Dispute Reporting  \n",
              "21                       Others  \n",
              "23                Mortgage/Loan  "
            ]
          },
          "execution_count": 52,
          "metadata": {},
          "output_type": "execute_result"
        }
      ],
      "source": [
        "df_clean[['ComplaintWhatHappened', 'Topic']].head(10)"
      ]
    },
    {
      "cell_type": "markdown",
      "metadata": {
        "id": "7Mu0QBOcJrGH"
      },
      "source": [
        "## Supervised model to predict any new complaints to the relevant Topics.\n",
        "\n",
        "You have now build the model to create the topics for each complaints.Now in the below section you will use them to classify any new complaints.\n",
        "\n",
        "Since you will be using supervised learning technique we have to convert the topic names to numbers(numpy arrays only understand numbers)"
      ]
    },
    {
      "cell_type": "code",
      "execution_count": 53,
      "metadata": {
        "id": "_U8J3J8wJrGH"
      },
      "outputs": [],
      "source": [
        "#Create the dictionary again of Topic names and Topics\n",
        "\n",
        "label_mapping = {\n",
        "    \"Bank Account services\": 0,\n",
        "    \"Credit card or prepaid card\": 1,\n",
        "    \"Theft/Dispute Reporting\": 2,\n",
        "    \"Mortgage/Loan\": 3,\n",
        "    \"Others\": 4\n",
        "}\n",
        "\n",
        "\n",
        "#Replace Topics with Topic Names\n",
        "df_clean['Topic'] = df_clean['Topic'].map(label_mapping)"
      ]
    },
    {
      "cell_type": "code",
      "execution_count": 54,
      "metadata": {
        "id": "BWIgJUkQJrGH"
      },
      "outputs": [
        {
          "data": {
            "text/html": [
              "<div>\n",
              "<style scoped>\n",
              "    .dataframe tbody tr th:only-of-type {\n",
              "        vertical-align: middle;\n",
              "    }\n",
              "\n",
              "    .dataframe tbody tr th {\n",
              "        vertical-align: top;\n",
              "    }\n",
              "\n",
              "    .dataframe thead th {\n",
              "        text-align: right;\n",
              "    }\n",
              "</style>\n",
              "<table border=\"1\" class=\"dataframe\">\n",
              "  <thead>\n",
              "    <tr style=\"text-align: right;\">\n",
              "      <th></th>\n",
              "      <th>ComplaintWhatHappened</th>\n",
              "      <th>Topic</th>\n",
              "    </tr>\n",
              "  </thead>\n",
              "  <tbody>\n",
              "    <tr>\n",
              "      <th>1</th>\n",
              "      <td>Good morning my name is XXXX XXXX and I apprec...</td>\n",
              "      <td>0</td>\n",
              "    </tr>\n",
              "    <tr>\n",
              "      <th>2</th>\n",
              "      <td>I upgraded my XXXX XXXX card in XX/XX/2018 and...</td>\n",
              "      <td>1</td>\n",
              "    </tr>\n",
              "    <tr>\n",
              "      <th>10</th>\n",
              "      <td>Chase Card was reported on XX/XX/2019. However...</td>\n",
              "      <td>3</td>\n",
              "    </tr>\n",
              "    <tr>\n",
              "      <th>11</th>\n",
              "      <td>On XX/XX/2018, while trying to book a XXXX  XX...</td>\n",
              "      <td>3</td>\n",
              "    </tr>\n",
              "    <tr>\n",
              "      <th>14</th>\n",
              "      <td>my grand son give me check for {$1600.00} i de...</td>\n",
              "      <td>0</td>\n",
              "    </tr>\n",
              "  </tbody>\n",
              "</table>\n",
              "</div>"
            ],
            "text/plain": [
              "                                ComplaintWhatHappened  Topic\n",
              "1   Good morning my name is XXXX XXXX and I apprec...      0\n",
              "2   I upgraded my XXXX XXXX card in XX/XX/2018 and...      1\n",
              "10  Chase Card was reported on XX/XX/2019. However...      3\n",
              "11  On XX/XX/2018, while trying to book a XXXX  XX...      3\n",
              "14  my grand son give me check for {$1600.00} i de...      0"
            ]
          },
          "execution_count": 54,
          "metadata": {},
          "output_type": "execute_result"
        }
      ],
      "source": [
        "df_clean[['ComplaintWhatHappened', 'Topic']].head(5)"
      ]
    },
    {
      "cell_type": "code",
      "execution_count": 55,
      "metadata": {
        "id": "Xx-FrbkWJrGH"
      },
      "outputs": [],
      "source": [
        "#Keep the columns\"complaint_what_happened\" & \"Topic\" only in the new dataframe --> training_data\n",
        "training_data=df_clean[['ComplaintWhatHappened', 'Topic']].copy()"
      ]
    },
    {
      "cell_type": "code",
      "execution_count": 56,
      "metadata": {
        "id": "lVg2pa12JrGI"
      },
      "outputs": [
        {
          "data": {
            "text/html": [
              "<div>\n",
              "<style scoped>\n",
              "    .dataframe tbody tr th:only-of-type {\n",
              "        vertical-align: middle;\n",
              "    }\n",
              "\n",
              "    .dataframe tbody tr th {\n",
              "        vertical-align: top;\n",
              "    }\n",
              "\n",
              "    .dataframe thead th {\n",
              "        text-align: right;\n",
              "    }\n",
              "</style>\n",
              "<table border=\"1\" class=\"dataframe\">\n",
              "  <thead>\n",
              "    <tr style=\"text-align: right;\">\n",
              "      <th></th>\n",
              "      <th>ComplaintWhatHappened</th>\n",
              "      <th>Topic</th>\n",
              "    </tr>\n",
              "  </thead>\n",
              "  <tbody>\n",
              "    <tr>\n",
              "      <th>1</th>\n",
              "      <td>Good morning my name is XXXX XXXX and I apprec...</td>\n",
              "      <td>0</td>\n",
              "    </tr>\n",
              "    <tr>\n",
              "      <th>2</th>\n",
              "      <td>I upgraded my XXXX XXXX card in XX/XX/2018 and...</td>\n",
              "      <td>1</td>\n",
              "    </tr>\n",
              "    <tr>\n",
              "      <th>10</th>\n",
              "      <td>Chase Card was reported on XX/XX/2019. However...</td>\n",
              "      <td>3</td>\n",
              "    </tr>\n",
              "    <tr>\n",
              "      <th>11</th>\n",
              "      <td>On XX/XX/2018, while trying to book a XXXX  XX...</td>\n",
              "      <td>3</td>\n",
              "    </tr>\n",
              "    <tr>\n",
              "      <th>14</th>\n",
              "      <td>my grand son give me check for {$1600.00} i de...</td>\n",
              "      <td>0</td>\n",
              "    </tr>\n",
              "  </tbody>\n",
              "</table>\n",
              "</div>"
            ],
            "text/plain": [
              "                                ComplaintWhatHappened  Topic\n",
              "1   Good morning my name is XXXX XXXX and I apprec...      0\n",
              "2   I upgraded my XXXX XXXX card in XX/XX/2018 and...      1\n",
              "10  Chase Card was reported on XX/XX/2019. However...      3\n",
              "11  On XX/XX/2018, while trying to book a XXXX  XX...      3\n",
              "14  my grand son give me check for {$1600.00} i de...      0"
            ]
          },
          "execution_count": 56,
          "metadata": {},
          "output_type": "execute_result"
        }
      ],
      "source": [
        "training_data.head()"
      ]
    },
    {
      "cell_type": "markdown",
      "metadata": {
        "id": "280Vbqk-7a8M"
      },
      "source": [
        "#### Apply the supervised models on the training data created. In this process, you have to do the following:\n",
        "* Create the vector counts using Count Vectoriser\n",
        "* Transform the word vecotr to tf-idf\n",
        "* Create the train & test data using the train_test_split on the tf-idf & topics\n"
      ]
    },
    {
      "cell_type": "code",
      "execution_count": 60,
      "metadata": {
        "id": "oUlQpgkzJrGI"
      },
      "outputs": [
        {
          "name": "stdout",
          "output_type": "stream",
          "text": [
            "Training set size: 16857 documents\n",
            "Test set size: 4215 documents\n"
          ]
        }
      ],
      "source": [
        "\n",
        "# Write your code to get the Vector count\n",
        "count_vect = CountVectorizer(max_df=0.95, min_df=2)\n",
        "X_counts = count_vect.fit_transform(training_data['ComplaintWhatHappened'])\n",
        "\n",
        "# Write your code here to transform the word vector to tf-idf\n",
        "tfidf_transformer = TfidfTransformer()\n",
        "X_tfidf = tfidf_transformer.fit_transform(X_counts)\n",
        "\n",
        "# Split the data into training and testing sets\n",
        "X_train, X_test, y_train, y_test = train_test_split(X_tfidf, training_data['Topic'], test_size=0.2, random_state=42)\n",
        "print(\"Training set size:\", X_train.shape[0], \"documents\")\n",
        "print(\"Test set size:\", X_test.shape[0], \"documents\")"
      ]
    },
    {
      "cell_type": "markdown",
      "metadata": {
        "id": "uMU3vj6w-wqL"
      },
      "source": [
        "You have to try atleast 3 models on the train & test data from these options:\n",
        "* Logistic regression\n",
        "* Decision Tree\n",
        "* Random Forest\n",
        "* Naive Bayes (optional)\n",
        "\n",
        "**Using the required evaluation metrics judge the tried models and select the ones performing the best**"
      ]
    },
    {
      "cell_type": "code",
      "execution_count": 61,
      "metadata": {
        "id": "udLHpPsZJrGI"
      },
      "outputs": [
        {
          "name": "stdout",
          "output_type": "stream",
          "text": [
            "Logistic Regression Performance:\n",
            "              precision    recall  f1-score   support\n",
            "\n",
            "           0       0.91      0.93      0.92      1045\n",
            "           1       0.92      0.91      0.92       846\n",
            "           2       0.92      0.96      0.94      1003\n",
            "           3       0.92      0.85      0.89       450\n",
            "           4       0.89      0.88      0.89       871\n",
            "\n",
            "    accuracy                           0.91      4215\n",
            "   macro avg       0.91      0.91      0.91      4215\n",
            "weighted avg       0.91      0.91      0.91      4215\n",
            "\n",
            "Accuracy: 0.9143534994068802\n",
            "Decision Tree Performance:\n",
            "              precision    recall  f1-score   support\n",
            "\n",
            "           0       0.79      0.79      0.79      1045\n",
            "           1       0.77      0.80      0.79       846\n",
            "           2       0.82      0.81      0.82      1003\n",
            "           3       0.74      0.72      0.73       450\n",
            "           4       0.68      0.67      0.67       871\n",
            "\n",
            "    accuracy                           0.77      4215\n",
            "   macro avg       0.76      0.76      0.76      4215\n",
            "weighted avg       0.76      0.77      0.76      4215\n",
            "\n",
            "Accuracy: 0.765361803084223\n",
            "Random Forest Performance:\n",
            "              precision    recall  f1-score   support\n",
            "\n",
            "           0       0.81      0.91      0.86      1045\n",
            "           1       0.84      0.79      0.81       846\n",
            "           2       0.84      0.91      0.87      1003\n",
            "           3       0.90      0.72      0.80       450\n",
            "           4       0.83      0.74      0.79       871\n",
            "\n",
            "    accuracy                           0.83      4215\n",
            "   macro avg       0.84      0.82      0.83      4215\n",
            "weighted avg       0.84      0.83      0.83      4215\n",
            "\n",
            "Accuracy: 0.8336892052194543\n"
          ]
        }
      ],
      "source": [
        "# Write your code here to build any 3 models and evaluate them using the required metrics\n",
        "from sklearn.linear_model import LogisticRegression\n",
        "from sklearn.tree import DecisionTreeClassifier\n",
        "from sklearn.ensemble import RandomForestClassifier\n",
        "from sklearn.metrics import classification_report, accuracy_score\n",
        "\n",
        "# Model 1: Logistic Regression\n",
        "lr_model = LogisticRegression(max_iter=1000, random_state=42)\n",
        "lr_model.fit(X_train, y_train)\n",
        "y_pred_lr = lr_model.predict(X_test)\n",
        "print(\"Logistic Regression Performance:\")\n",
        "print(classification_report(y_test, y_pred_lr))\n",
        "print(\"Accuracy:\", accuracy_score(y_test, y_pred_lr))\n",
        "\n",
        "# Model 2: Decision Tree\n",
        "dt_model = DecisionTreeClassifier(random_state=42)\n",
        "dt_model.fit(X_train, y_train)\n",
        "y_pred_dt = dt_model.predict(X_test)\n",
        "print(\"Decision Tree Performance:\")\n",
        "print(classification_report(y_test, y_pred_dt))\n",
        "print(\"Accuracy:\", accuracy_score(y_test, y_pred_dt))\n",
        "\n",
        "# Model 3: Random Forest\n",
        "rf_model = RandomForestClassifier(random_state=42)\n",
        "rf_model.fit(X_train, y_train)\n",
        "y_pred_rf = rf_model.predict(X_test)\n",
        "print(\"Random Forest Performance:\")\n",
        "print(classification_report(y_test, y_pred_rf))\n",
        "print(\"Accuracy:\", accuracy_score(y_test, y_pred_rf))\n",
        "\n",
        "\n",
        "\n"
      ]
    },
    {
      "cell_type": "markdown",
      "metadata": {
        "id": "N2OznsObJrGP"
      },
      "source": [
        "#### Model Inference on New Complaint\n",
        "\n",
        " let's use the best-performing model (Logistic Regression here) to predict the topic of a new, custom complaint text. We will preprocess the new complaint through the same vectorization pipeline and then predict its topic label, then map that label back to the topic name."
      ]
    },
    {
      "cell_type": "code",
      "execution_count": 62,
      "metadata": {},
      "outputs": [
        {
          "name": "stdout",
          "output_type": "stream",
          "text": [
            "New Complaint: I was charged an extra fee on my credit card and customer service is not helping.\n",
            "Predicted Topic Label: 1\n",
            "Predicted Topic Name: Credit card or prepaid card\n"
          ]
        }
      ],
      "source": [
        "# Example of a new customer complaint \n",
        "new_complaint = \"I was charged an extra fee on my credit card and customer service is not helping.\"\n",
        "\n",
        "# Clean and transform the new complaint using the same pipeline as training\n",
        "new_complaint_cleaned = clean_text(new_complaint)\n",
        "new_counts = count_vect.transform([new_complaint_cleaned])\n",
        "new_tfidf = tfidf_transformer.transform(new_counts)\n",
        "\n",
        "# Predict the topic using the chosen model (Logistic Regression in this case)\n",
        "predicted_label = lr_model.predict(new_tfidf)[0]\n",
        "# Map the numeric label back to the topic name\n",
        "topic_labels = {v: k for k, v in label_mapping.items()}\n",
        "predicted_topic_name = topic_labels[predicted_label]\n",
        "\n",
        "print(\"New Complaint:\", new_complaint)\n",
        "print(\"Predicted Topic Label:\", predicted_label)\n",
        "print(\"Predicted Topic Name:\", predicted_topic_name)\n"
      ]
    },
    {
      "cell_type": "code",
      "execution_count": null,
      "metadata": {},
      "outputs": [],
      "source": []
    }
  ],
  "metadata": {
    "colab": {
      "collapsed_sections": [
        "T9jD_6SeJrF3",
        "5DfCSbbmJrF4",
        "yYzD85nTJrGA",
        "piyLxzj6v07j",
        "280Vbqk-7a8M"
      ],
      "provenance": []
    },
    "kernelspec": {
      "display_name": "Python 3",
      "language": "python",
      "name": "python3"
    },
    "language_info": {
      "codemirror_mode": {
        "name": "ipython",
        "version": 3
      },
      "file_extension": ".py",
      "mimetype": "text/x-python",
      "name": "python",
      "nbconvert_exporter": "python",
      "pygments_lexer": "ipython3",
      "version": "3.12.2"
    }
  },
  "nbformat": 4,
  "nbformat_minor": 0
}
